{
 "cells": [
  {
   "cell_type": "code",
   "execution_count": 2,
   "id": "c6d87500",
   "metadata": {},
   "outputs": [],
   "source": [
    "import requests\n",
    "import json"
   ]
  },
  {
   "cell_type": "code",
   "execution_count": null,
   "id": "ef34f308",
   "metadata": {},
   "outputs": [
    {
     "name": "stdout",
     "output_type": "stream",
     "text": [
      "FPL data saved to 'bootstrap_data_2024_25.json'\n"
     ]
    }
   ],
   "source": [
    "# URL of the API\n",
    "url = \"https://fantasy.premierleague.com/api/bootstrap-static/\"\n",
    "\n",
    "# Make the API request\n",
    "response = requests.get(url)\n",
    "\n",
    "# Step 2: Convert to JSON\n",
    "data = response.json()\n",
    "\n",
    "# Step 3: Save to a local JSON file\n",
    "with open(\"bootstrap_data_2024_25.json\", \"w\") as f:\n",
    "    json.dump(data, f, indent=4)\n",
    "\n",
    "with open(\"bootstrap_data_2024_25.json\", \"r\") as f:\n",
    "    data = json.load(f)\n"
   ]
  },
  {
   "cell_type": "code",
   "execution_count": null,
   "id": "c14c2967",
   "metadata": {},
   "outputs": [
    {
     "name": "stdout",
     "output_type": "stream",
     "text": [
      "FPL data saved to 'fixtures.json'\n"
     ]
    }
   ],
   "source": [
    "# URL of the API\n",
    "url = \"https://fantasy.premierleague.com/api/fixtures/\"\n",
    "response = requests.get(url)\n",
    "data = response.json()\n",
    "with open(\"fixtures.json\", \"w\") as f:\n",
    "    json.dump(data, f, indent=4)\n",
    "\n",
    "with open(\"bootstrap_data_2024_25.json\", \"r\") as f:\n",
    "    data = json.load(f)"
   ]
  },
  {
   "cell_type": "code",
   "execution_count": 3,
   "id": "c046b71d",
   "metadata": {},
   "outputs": [],
   "source": [
    "# URL of the API\n",
    "team_id = 2650\n",
    "url = f\"https://fantasy.premierleague.com/api/entry/{team_id}/history/\"\n",
    "response = requests.get(url)\n",
    "data = response.json()\n",
    "with open(f\"history {team_id}.json\", \"w\") as f:\n",
    "    json.dump(data, f, indent=4)\n",
    "\n",
    "with open(f\"history {team_id}.json\", \"r\") as f:\n",
    "    data = json.load(f)"
   ]
  },
  {
   "cell_type": "code",
   "execution_count": 4,
   "id": "5a0f9fd1",
   "metadata": {},
   "outputs": [],
   "source": [
    "# URL of the API\n",
    "team_id = 2650\n",
    "url = f\"https://fantasy.premierleague.com/api/entry/{team_id}/transfers/\"\n",
    "response = requests.get(url)\n",
    "data = response.json()\n",
    "with open(f\"transfers {team_id}.json\", \"w\") as f:\n",
    "    json.dump(data, f, indent=4)\n",
    "\n",
    "with open(f\"transfers {team_id}.json\", \"r\") as f:\n",
    "    data = json.load(f)"
   ]
  },
  {
   "cell_type": "code",
   "execution_count": null,
   "id": "494671ca",
   "metadata": {},
   "outputs": [],
   "source": []
  }
 ],
 "metadata": {
  "kernelspec": {
   "display_name": "Python 3",
   "language": "python",
   "name": "python3"
  },
  "language_info": {
   "codemirror_mode": {
    "name": "ipython",
    "version": 3
   },
   "file_extension": ".py",
   "mimetype": "text/x-python",
   "name": "python",
   "nbconvert_exporter": "python",
   "pygments_lexer": "ipython3",
   "version": "3.12.4"
  }
 },
 "nbformat": 4,
 "nbformat_minor": 5
}
